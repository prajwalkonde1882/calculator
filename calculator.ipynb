{
 "cells": [
  {
   "cell_type": "code",
   "execution_count": 1,
   "id": "72a31a98",
   "metadata": {},
   "outputs": [
    {
     "name": "stdout",
     "output_type": "stream",
     "text": [
      "Enter operation (+, -, *, /): *\n",
      "Enter the number of input values: 2\n",
      "Enter value 1: 20\n",
      "Enter value 2: 23\n",
      "Result: 460.0\n"
     ]
    }
   ],
   "source": [
    "def add(numbers):\n",
    "    return sum(numbers)\n",
    "\n",
    "def subtract(numbers):\n",
    "    result = numbers[0]\n",
    "    for num in numbers[1:]:\n",
    "        result -= num\n",
    "    return result\n",
    "\n",
    "def multiply(numbers):\n",
    "    result = 1\n",
    "    for num in numbers:\n",
    "        result *= num\n",
    "    return result\n",
    "\n",
    "def divide(numbers):\n",
    "    result = numbers[0]\n",
    "    for num in numbers[1:]:\n",
    "        if num != 0:\n",
    "            result /= num\n",
    "        else:\n",
    "            print(\"Error: Cannot divide by zero.\")\n",
    "            return None\n",
    "    return result\n",
    "\n",
    "def calculator():\n",
    "    operation = input(\"Enter operation (+, -, *, /): \")\n",
    "    \n",
    "    try:\n",
    "        n = int(input(\"Enter the number of input values: \"))\n",
    "        numbers = [float(input(f\"Enter value {i + 1}: \")) for i in range(n)]\n",
    "    except ValueError:\n",
    "        print(\"Invalid input. Please enter numeric values.\")\n",
    "        return\n",
    "\n",
    "    if operation == '+':\n",
    "        result = add(numbers)\n",
    "    elif operation == '-':\n",
    "        result = subtract(numbers)\n",
    "    elif operation == '*':\n",
    "        result = multiply(numbers)\n",
    "    elif operation == '/':\n",
    "        result = divide(numbers)\n",
    "    else:\n",
    "        print(\"Invalid operation. Please enter +, -, *, or /.\")\n",
    "        return\n",
    "\n",
    "    print(\"Result:\", result)\n",
    "\n",
    "# Run the calculator\n",
    "calculator()\n"
   ]
  },
  {
   "cell_type": "code",
   "execution_count": null,
   "id": "9aa6818f",
   "metadata": {},
   "outputs": [],
   "source": []
  }
 ],
 "metadata": {
  "kernelspec": {
   "display_name": "Python 3 (ipykernel)",
   "language": "python",
   "name": "python3"
  },
  "language_info": {
   "codemirror_mode": {
    "name": "ipython",
    "version": 3
   },
   "file_extension": ".py",
   "mimetype": "text/x-python",
   "name": "python",
   "nbconvert_exporter": "python",
   "pygments_lexer": "ipython3",
   "version": "3.11.4"
  }
 },
 "nbformat": 4,
 "nbformat_minor": 5
}
